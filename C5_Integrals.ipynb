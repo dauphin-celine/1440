{
  "nbformat": 4,
  "nbformat_minor": 0,
  "metadata": {
    "colab": {
      "provenance": [],
      "toc_visible": true,
      "include_colab_link": true
    },
    "kernelspec": {
      "name": "python3",
      "display_name": "Python 3"
    },
    "language_info": {
      "name": "python"
    }
  },
  "cells": [
    {
      "cell_type": "markdown",
      "metadata": {
        "id": "view-in-github",
        "colab_type": "text"
      },
      "source": [
        "<a href=\"https://colab.research.google.com/github/dauphin-celine/1440/blob/main/C5_Integrals.ipynb\" target=\"_parent\"><img src=\"https://colab.research.google.com/assets/colab-badge.svg\" alt=\"Open In Colab\"/></a>"
      ]
    },
    {
      "cell_type": "markdown",
      "source": [
        "# Riemann Sum"
      ],
      "metadata": {
        "id": "6QgvOfHRAP8q"
      }
    },
    {
      "cell_type": "code",
      "source": [
        "# y = x**2 from x=0 to x=3\n",
        "\n",
        "dx = 0.001\n",
        "start_x = 0\n",
        "end_x = 3\n",
        "rectangles = int((end_x - start_x)/dx)\n",
        "\n",
        "sum = 0\n",
        "for a in range(rectangles):\n",
        "    x = start_x + dx*a\n",
        "    y = x**2\n",
        "    area = y*dx\n",
        "    sum = sum + area\n",
        "\n",
        "print(sum)"
      ],
      "metadata": {
        "id": "yaanudHt05fg"
      },
      "execution_count": null,
      "outputs": []
    },
    {
      "cell_type": "markdown",
      "source": [
        "# Integral Equation"
      ],
      "metadata": {
        "id": "C3N39zn1AVPR"
      }
    },
    {
      "cell_type": "code",
      "execution_count": null,
      "metadata": {
        "id": "GGSOz9psovGF"
      },
      "outputs": [],
      "source": [
        "import sympy\n",
        "from sympy import symbols\n",
        "\n",
        "x,y,c = symbols('x y c')\n",
        "\n",
        "eq = 1/(x*sympy.log(x))\n",
        "integral = sympy.integrate(eq)\n",
        "integral"
      ]
    },
    {
      "cell_type": "markdown",
      "source": [
        "# Definite Integral"
      ],
      "metadata": {
        "id": "6eRY-KFEAcEx"
      }
    },
    {
      "cell_type": "code",
      "source": [
        "\n",
        "lower = 0\n",
        "upper = 3\n",
        "integral_definite = sympy.integrate(eq, (x, lower, upper))\n",
        "integral_definite"
      ],
      "metadata": {
        "id": "YTkE1_K4o7HV"
      },
      "execution_count": null,
      "outputs": []
    },
    {
      "cell_type": "markdown",
      "source": [
        "# Area above and below x axis"
      ],
      "metadata": {
        "id": "TQZNU4DHAydd"
      }
    },
    {
      "cell_type": "code",
      "source": [
        "import sympy\n",
        "from sympy import symbols\n",
        "\n",
        "x,y, c = symbols('x y c')\n",
        "\n",
        "# graph\n",
        "eq = sympy.sin(x)\n",
        "sympy.plot(eq)"
      ],
      "metadata": {
        "id": "C-HzDemhArKb"
      },
      "execution_count": null,
      "outputs": []
    },
    {
      "cell_type": "code",
      "source": [
        "# find the zeros\n",
        "zeros = sympy.solve(eq)\n",
        "zeros"
      ],
      "metadata": {
        "id": "Blb2xU5O9wvj"
      },
      "execution_count": null,
      "outputs": []
    },
    {
      "cell_type": "code",
      "source": [
        "# area with two zeros in range\n",
        "import math\n",
        "\n",
        "lower = 0\n",
        "upper = 2*sympy.pi\n",
        "one = abs(sympy.integrate(eq, (x, lower, zeros[0])))\n",
        "two = abs(sympy.integrate(eq, (x, zeros[0], zeros[1])))\n",
        "three = abs(sympy.integrate(eq, (x, zeros[1], upper)))\n",
        "print(\"area = \", one+two+three)\n",
        "print(one)\n",
        "print(two)\n",
        "print(three)"
      ],
      "metadata": {
        "id": "78jvcF54pADE"
      },
      "execution_count": null,
      "outputs": []
    },
    {
      "cell_type": "markdown",
      "source": [
        "# Fundamental Theorem of Calculus"
      ],
      "metadata": {
        "id": "4V8Eg2O7HhV7"
      }
    },
    {
      "cell_type": "code",
      "source": [
        "import sympy\n",
        "from sympy import symbols\n",
        "x,y,c = symbols('x y c')\n",
        "\n",
        "eq = (sympy.sin(4*x))**2\n",
        "eq"
      ],
      "metadata": {
        "id": "fILgZBt_ONLZ"
      },
      "execution_count": null,
      "outputs": []
    },
    {
      "cell_type": "code",
      "source": [
        "integral = sympy.integrate(eq) + c\n",
        "integral"
      ],
      "metadata": {
        "id": "rqqgI48SOTaQ"
      },
      "execution_count": null,
      "outputs": []
    },
    {
      "cell_type": "code",
      "source": [
        "integral_x = integral.subs(c,100) # any c value will do\n",
        "derivative = sympy.diff(integral_x)\n",
        "derivative"
      ],
      "metadata": {
        "id": "4GLkFRmdJBxP"
      },
      "execution_count": null,
      "outputs": []
    },
    {
      "cell_type": "code",
      "source": [
        "ans = sympy.trigsimp(derivative)\n",
        "ans"
      ],
      "metadata": {
        "id": "b9pEPWukvagE"
      },
      "execution_count": null,
      "outputs": []
    },
    {
      "cell_type": "code",
      "source": [
        "integral2 = sympy.integrate(derivative) + c\n",
        "integral2"
      ],
      "metadata": {
        "id": "AOldMTiFOq_4"
      },
      "execution_count": null,
      "outputs": []
    },
    {
      "cell_type": "markdown",
      "source": [
        "# Area between two curves"
      ],
      "metadata": {
        "id": "mhsnItN0W_ts"
      }
    },
    {
      "cell_type": "markdown",
      "source": [
        "Graph"
      ],
      "metadata": {
        "id": "I6AZPsqbXF2S"
      }
    },
    {
      "cell_type": "code",
      "source": [
        "import sympy\n",
        "from sympy import symbols, Eq\n",
        "\n",
        "x,y, c = symbols('x y c')\n",
        "\n",
        "# graph\n",
        "eq_1 = x**2\n",
        "eq_2 = x\n",
        "sympy.plot(eq_1, eq_2, (x, -0.5, 1.5))\n"
      ],
      "metadata": {
        "id": "yfuw4Hh_XH4y"
      },
      "execution_count": null,
      "outputs": []
    },
    {
      "cell_type": "markdown",
      "source": [
        "Find intersections"
      ],
      "metadata": {
        "id": "4BxsaNVLXIkD"
      }
    },
    {
      "cell_type": "code",
      "source": [
        "# find the intersection points\n",
        "x_points = sympy.solve(Eq(eq_1,eq_2))\n",
        "x_points"
      ],
      "metadata": {
        "id": "Jb2grAzMXMVT"
      },
      "execution_count": null,
      "outputs": []
    },
    {
      "cell_type": "markdown",
      "source": [
        "Subtract integrals"
      ],
      "metadata": {
        "id": "G7I5CruJXOD6"
      }
    },
    {
      "cell_type": "code",
      "source": [
        "# area between curves\n",
        "\n",
        "lower = x_points[0]\n",
        "upper = x_points[1]\n",
        "top = sympy.integrate(eq_2, (x, lower, upper))\n",
        "bottom = sympy.integrate(eq_1, (x, lower, upper))\n",
        "area = abs(top - bottom)\n",
        "print(\"area = \", area)\n"
      ],
      "metadata": {
        "id": "A5xODqTeXfXK"
      },
      "execution_count": null,
      "outputs": []
    },
    {
      "cell_type": "markdown",
      "source": [
        "# Center of Mass"
      ],
      "metadata": {
        "id": "JjVOlj3I-hye"
      }
    },
    {
      "cell_type": "code",
      "source": [
        "import sympy\n",
        "from sympy import symbols, Eq\n",
        "\n",
        "x,y,c = symbols('x y c')\n",
        "\n",
        "# x value range\n",
        "lower = 0\n",
        "upper = 9\n",
        "\n",
        "# for area between eq_1 and x axis\n",
        "eq_1 = sympy.sqrt(x)\n",
        "\n",
        "mass = sympy.integrate(eq_1, (x, lower, upper))\n",
        "eq_2 = (eq_1**2)/2\n",
        "mx = sympy.integrate(eq_2, (x, lower, upper))\n",
        "eq_3 = x*eq_1\n",
        "my = sympy.integrate(eq_3, (x, lower, upper))\n",
        "x_center = my/mass\n",
        "y_center = mx/mass\n",
        "print(\"x center of mass = \", x_center)\n",
        "print(\"y center of mass = \", y_center)\n",
        "print(\"point = (\", sympy.N(x_center),\",\", sympy.N(y_center),\")\")\n",
        "\n",
        "# plot area with point in the center\n",
        "sympy.plot(eq_1,(x,lower,upper),markers=[{'args':[x_center,y_center,'ro']}])\n"
      ],
      "metadata": {
        "id": "Yj2RZOwt-kuG"
      },
      "execution_count": null,
      "outputs": []
    },
    {
      "cell_type": "markdown",
      "source": [
        "# Arc Length"
      ],
      "metadata": {
        "id": "YvM4MigskBAS"
      }
    },
    {
      "cell_type": "code",
      "source": [
        "import sympy\n",
        "from sympy import symbols, Eq\n",
        "\n",
        "x,y,c = symbols('x y c')\n",
        "\n",
        "# x value range\n",
        "lower = -3\n",
        "upper = 3\n",
        "\n",
        "eq_1 = x**2\n",
        "der = sympy.diff(eq_1)\n",
        "eq_2 = sympy.sqrt(der**2 + 1)\n",
        "arc_length = sympy.integrate(eq_2, (x, lower, upper))\n",
        "print(\"arc length = \", arc_length)\n",
        "print(\"arc length = \", sympy.N(arc_length))\n",
        "arc_length"
      ],
      "metadata": {
        "id": "UKKSpUb-kFEE"
      },
      "execution_count": null,
      "outputs": []
    },
    {
      "cell_type": "markdown",
      "source": [
        "# Surface Area"
      ],
      "metadata": {
        "id": "d0dNfXWPFKHo"
      }
    },
    {
      "cell_type": "code",
      "source": [
        "import sympy\n",
        "from sympy import symbols, Eq\n",
        "\n",
        "x,y,c = symbols('x y c')\n",
        "\n",
        "# x value range\n",
        "lower = 0\n",
        "upper = 3\n",
        "\n",
        "# boundary equation (y value is the radius)\n",
        "eq_1 = x**2\n",
        "\n",
        "# arc length equation\n",
        "der = sympy.diff(eq_1)\n",
        "eq_2 = sympy.sqrt(der**2 + 1)\n",
        "\n",
        "# surface area = 2*pi*radius*arc length\n",
        "surface_area = sympy.integrate(2*sympy.pi*eq_1*eq_2, (x, lower, upper))\n",
        "\n",
        "# revolve around x axis\n",
        "print(\"surface area = \", sympy.N(surface_area))\n",
        "print(\"surface area = \", surface_area)\n",
        "surface_area\n"
      ],
      "metadata": {
        "id": "evY5y32rFON1"
      },
      "execution_count": null,
      "outputs": []
    },
    {
      "cell_type": "markdown",
      "source": [
        "# Tables of Integrals"
      ],
      "metadata": {
        "id": "1hccYHsG2vAt"
      }
    },
    {
      "cell_type": "code",
      "source": [
        "import sympy\n",
        "from sympy import symbols\n",
        "\n",
        "x,y,c = symbols('x y c')\n",
        "\n",
        "#eq = sympy.sec(x)**2\n",
        "#eq = -sympy.csc(x)**2\n",
        "#eq = sympy.sec(x)*sympy.tan(x)\n",
        "#eq = sympy.tan(x)\n",
        "#eq = sympy.cot(x)\n",
        "#eq = sympy.sec(x)\n",
        "#eq = sympy.csc(x)\n",
        "#eq = 1/(x*sympy.sqrt(x**2 - 9))\n",
        "eq = sympy.sin(x)**2\n",
        "eq = sympy.cos(x)**2\n",
        "eq = sympy.tan(x)**2\n",
        "\n",
        "integral = sympy.integrate(eq)\n",
        "integral"
      ],
      "metadata": {
        "id": "LVNId0FklOKI"
      },
      "execution_count": null,
      "outputs": []
    },
    {
      "cell_type": "code",
      "source": [
        "sim = sympy.simplify(integral)\n",
        "sim"
      ],
      "metadata": {
        "id": "BgP7XKvFOlyO"
      },
      "execution_count": null,
      "outputs": []
    },
    {
      "cell_type": "code",
      "source": [
        "# no need to factor integrals\n",
        "\n",
        "eq = 1/sympy.sqrt(9-x**2)\n",
        "eq = 1/(9+x**2)\n",
        "eq = sympy.log(x)\n",
        "eq = sympy.asin(x)\n",
        "eq = sympy.acos(x)\n"
      ],
      "metadata": {
        "id": "tWXY9H2durBp"
      },
      "execution_count": null,
      "outputs": []
    },
    {
      "cell_type": "code",
      "source": [
        "# check\n",
        "der = sympy.diff(integral)\n",
        "der"
      ],
      "metadata": {
        "id": "LdsrpBnRvVHJ"
      },
      "execution_count": null,
      "outputs": []
    },
    {
      "cell_type": "code",
      "source": [
        "# check 2\n",
        "der = sympy.diff((-1/3)*sympy.asec(3/x))\n",
        "der"
      ],
      "metadata": {
        "id": "JrdQg73wv_Jp"
      },
      "execution_count": null,
      "outputs": []
    }
  ]
}